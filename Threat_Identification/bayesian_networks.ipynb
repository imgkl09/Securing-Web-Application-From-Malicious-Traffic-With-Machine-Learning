{
  "cells": [
    {
      "cell_type": "code",
      "execution_count": 1,
      "metadata": {
        "id": "ksIBMvwWmIN2"
      },
      "outputs": [],
      "source": [
        "import numpy as np\n",
        "import torch\n",
        "import torch.nn as nn\n",
        "import torch.nn.functional as F\n",
        "import torch.optim as optim\n",
        "from torch.utils.data import DataLoader, TensorDataset\n",
        "import joblib"
      ]
    },
    {
      "cell_type": "code",
      "execution_count": 2,
      "metadata": {
        "id": "W1vyAjxZmL0u"
      },
      "outputs": [],
      "source": [
        "import pandas as pd\n",
        "df = pd.read_csv(\"/Users/gokul/Desktop/Attack_Identification/Threat_Identification/module3.csv\",encoding='latin-1')\n",
        "df_pay = df[\"injection_type\"]\n",
        "df.drop([\"payload\"],axis=1,inplace=True)\n",
        "df.drop([\"injection_type\"],axis=1,inplace=True)\n",
        "X = df.values\n",
        "y = df_pay.values"
      ]
    },
    {
      "cell_type": "code",
      "execution_count": 3,
      "metadata": {},
      "outputs": [
        {
          "data": {
            "text/plain": [
              "array([[ 9,  0,  0, ...,  0,  0,  0],\n",
              "       [12,  0,  0, ...,  0,  0,  0],\n",
              "       [38,  0,  2, ...,  0,  1,  0],\n",
              "       ...,\n",
              "       [ 7,  0,  0, ...,  0,  0,  0],\n",
              "       [ 8,  0,  0, ...,  0,  0,  0],\n",
              "       [ 8,  0,  0, ...,  0,  0,  0]], dtype=int64)"
            ]
          },
          "execution_count": 3,
          "metadata": {},
          "output_type": "execute_result"
        }
      ],
      "source": [
        "X"
      ]
    },
    {
      "cell_type": "code",
      "execution_count": 4,
      "metadata": {
        "id": "bygX9R7gmL3w"
      },
      "outputs": [],
      "source": [
        "from sklearn.model_selection import train_test_split\n",
        "X_train , X_test , y_train , y_test = train_test_split(X ,y , test_size=0.2,random_state= 2) \n",
        "X_train = torch.Tensor(X_train)\n",
        "X_test = torch.Tensor(X_test)\n",
        "y_train = torch.Tensor(y_train)\n",
        "y_test = torch.Tensor(y_test)\n",
        "y_train = y_train.type(torch.LongTensor)\n",
        "y_test = y_test.type(torch.LongTensor)"
      ]
    },
    {
      "cell_type": "code",
      "execution_count": 5,
      "metadata": {
        "id": "VEZBMoTymL68"
      },
      "outputs": [],
      "source": [
        "class BayesianNN(nn.Module):\n",
        "    def __init__(self, input_size, hidden_size, output_size):\n",
        "        super(BayesianNN, self).__init__()\n",
        "        self.fc1 = nn.Linear(input_size, hidden_size)\n",
        "        self.fc2 = nn.Linear(hidden_size, output_size)\n",
        "\n",
        "    def forward(self, x):\n",
        "        x = F.relu(self.fc1(x))\n",
        "        x = self.fc2(x)\n",
        "        return x"
      ]
    },
    {
      "cell_type": "code",
      "execution_count": 6,
      "metadata": {
        "id": "whxlAw9xmL96"
      },
      "outputs": [],
      "source": [
        "def train(model, optimizer, criterion, train_loader):\n",
        "    model.train()\n",
        "    train_loss = 0\n",
        "    for inputs, labels in train_loader:\n",
        "        optimizer.zero_grad()\n",
        "        outputs = model(inputs)\n",
        "        loss = criterion(outputs, labels)\n",
        "        loss.backward()\n",
        "        optimizer.step()\n",
        "        train_loss += loss.item()\n",
        "    return train_loss / len(train_loader)"
      ]
    },
    {
      "cell_type": "code",
      "execution_count": 8,
      "metadata": {
        "id": "IBdgg32xmMA_"
      },
      "outputs": [],
      "source": [
        "def evaluate(model, criterion, test_loader):\n",
        "    model.eval()\n",
        "    test_loss = 0\n",
        "    correct = 0\n",
        "    with torch.no_grad():\n",
        "        for inputs, labels in test_loader:\n",
        "            outputs = model(inputs)\n",
        "            test_loss += criterion(outputs, labels).item()\n",
        "            pred = outputs.argmax(dim=1, keepdim=True)\n",
        "            correct += pred.eq(labels.view_as(pred)).sum().item()\n",
        "    return test_loss / len(test_loader), correct / len(test_loader.dataset)"
      ]
    },
    {
      "cell_type": "code",
      "execution_count": 9,
      "metadata": {
        "id": "JLWVMDrvmMD_"
      },
      "outputs": [],
      "source": [
        "input_size = 9\n",
        "hidden_size = 1024\n",
        "output_size = 4\n",
        "num_epochs = 15\n",
        "batch_size = 512\n",
        "learning_rate = 0.01"
      ]
    },
    {
      "cell_type": "code",
      "execution_count": 10,
      "metadata": {
        "id": "ZhHmxC4WmMHP"
      },
      "outputs": [],
      "source": [
        "train_dataset = TensorDataset(X_train, y_train)\n",
        "train_loader = DataLoader(train_dataset, batch_size=batch_size, shuffle=True)\n",
        "test_dataset = TensorDataset(X_test, y_test)\n",
        "test_loader = DataLoader(test_dataset, batch_size=batch_size, shuffle=False)"
      ]
    },
    {
      "cell_type": "code",
      "execution_count": 11,
      "metadata": {
        "id": "whvhE9NImMKd"
      },
      "outputs": [],
      "source": [
        "model = BayesianNN(input_size, hidden_size, output_size)"
      ]
    },
    {
      "cell_type": "code",
      "execution_count": 12,
      "metadata": {
        "id": "dHnFW64Emu1D"
      },
      "outputs": [],
      "source": [
        "optimizer = optim.Adam(model.parameters(), lr=learning_rate)\n",
        "criterion = nn.CrossEntropyLoss()"
      ]
    },
    {
      "cell_type": "code",
      "execution_count": 13,
      "metadata": {
        "colab": {
          "base_uri": "https://localhost:8080/"
        },
        "id": "HC58LapNmu38",
        "outputId": "77573108-9eb9-4325-f576-dde12f1e863d"
      },
      "outputs": [
        {
          "name": "stdout",
          "output_type": "stream",
          "text": [
            "Epoch 1 - Train Loss: 0.9019, Test Loss: 0.1211, Test Accuracy: 0.9739\n",
            "Epoch 2 - Train Loss: 0.1772, Test Loss: 0.0957, Test Accuracy: 0.9740\n",
            "Epoch 3 - Train Loss: 0.1039, Test Loss: 0.0819, Test Accuracy: 0.9763\n",
            "Epoch 4 - Train Loss: 0.1121, Test Loss: 0.0886, Test Accuracy: 0.9752\n",
            "Epoch 5 - Train Loss: 0.1269, Test Loss: 0.0692, Test Accuracy: 0.9786\n",
            "Epoch 6 - Train Loss: 0.0971, Test Loss: 0.1309, Test Accuracy: 0.9715\n",
            "Epoch 7 - Train Loss: 0.1114, Test Loss: 0.0846, Test Accuracy: 0.9764\n",
            "Epoch 8 - Train Loss: 0.0941, Test Loss: 0.0753, Test Accuracy: 0.9768\n",
            "Epoch 9 - Train Loss: 0.0743, Test Loss: 0.0714, Test Accuracy: 0.9782\n",
            "Epoch 10 - Train Loss: 0.0707, Test Loss: 0.0718, Test Accuracy: 0.9783\n",
            "Epoch 11 - Train Loss: 0.0715, Test Loss: 0.0826, Test Accuracy: 0.9769\n",
            "Epoch 12 - Train Loss: 0.0822, Test Loss: 0.0986, Test Accuracy: 0.9744\n",
            "Epoch 13 - Train Loss: 0.0808, Test Loss: 0.0723, Test Accuracy: 0.9786\n",
            "Epoch 14 - Train Loss: 0.0641, Test Loss: 0.0689, Test Accuracy: 0.9798\n",
            "Epoch 15 - Train Loss: 0.0648, Test Loss: 0.0691, Test Accuracy: 0.9797\n"
          ]
        }
      ],
      "source": [
        "for epoch in range(num_epochs):\n",
        "    train_loss = train(model, optimizer, criterion, train_loader)\n",
        "    test_loss, test_accuracy = evaluate(model, criterion, test_loader)\n",
        "    print(f\"Epoch {epoch+1} - Train Loss: {train_loss:.4f}, Test Loss: {test_loss:.4f}, Test Accuracy: {test_accuracy:.4f}\")"
      ]
    },
    {
      "cell_type": "code",
      "execution_count": 14,
      "metadata": {
        "id": "MB-EN02Nmu6Z"
      },
      "outputs": [],
      "source": [
        "file_path = \"C:/Users/gokul/Desktop/Attack_Identification/Threat_Identification\"\n",
        "\n",
        "def dump(model , filename):\n",
        "    with open(filename, \"wb\") as f:\n",
        "        joblib.dump(model , f)"
      ]
    },
    {
      "cell_type": "code",
      "execution_count": 15,
      "metadata": {
        "id": "m0wseL-Et0mV"
      },
      "outputs": [],
      "source": [
        "dump(model , filename=f\"{file_path}/bnn.pkl\")"
      ]
    },
    {
      "cell_type": "code",
      "execution_count": 16,
      "metadata": {
        "id": "MDA3WFz5mu9I"
      },
      "outputs": [],
      "source": [
        "import sys \n",
        "sys.path.append('/Users/gokul/Desktop/Attack_Identification')\n",
        "sys.path\n",
        "\n",
        "from WAF_Model_Trainer.utils import extract_feature"
      ]
    },
    {
      "cell_type": "code",
      "execution_count": 17,
      "metadata": {
        "colab": {
          "base_uri": "https://localhost:8080/",
          "height": 373
        },
        "id": "Z0QbG9UsmvAC",
        "outputId": "1054a532-83f4-4a03-b4b3-3a30a2066122"
      },
      "outputs": [
        {
          "data": {
            "text/plain": [
              "array([25,  0,  5,  5,  0,  0,  0,  0,  4], dtype=int64)"
            ]
          },
          "execution_count": 17,
          "metadata": {},
          "output_type": "execute_result"
        }
      ],
      "source": [
        "from WAF_Model_Trainer.utils import extract_feature\n",
        "payload_n = \"&& perl -e 'print \"\"X\"\"x4096'\"\n",
        "d = extract_feature(payload_n)\n",
        "d.drop(columns=d.columns[0], axis=1,  inplace=True)\n",
        "im_arr = np.array(d.values)\n",
        "im_arr = im_arr.flatten()\n",
        "im_arr"
      ]
    },
    {
      "cell_type": "code",
      "execution_count": 18,
      "metadata": {
        "id": "koCI1Vhom6EM"
      },
      "outputs": [],
      "source": [
        "def predict(model, data):\n",
        "    model.eval()\n",
        "    with torch.no_grad():\n",
        "        outputs = model(data)\n",
        "        _, predicted = torch.max(outputs.data, 1)\n",
        "    return predicted"
      ]
    },
    {
      "cell_type": "code",
      "execution_count": 19,
      "metadata": {},
      "outputs": [],
      "source": [
        "file_path =\"C:/Users/gokul/Desktop/Attack_Identification/Threat_Identification/bnn.pkl\""
      ]
    },
    {
      "cell_type": "code",
      "execution_count": 20,
      "metadata": {},
      "outputs": [],
      "source": [
        "with open(file_path , \"rb\") as g:\n",
        "    bnn_model = joblib.load(g)\n",
        "        "
      ]
    },
    {
      "cell_type": "code",
      "execution_count": 21,
      "metadata": {},
      "outputs": [
        {
          "data": {
            "text/plain": [
              "BayesianNN(\n",
              "  (fc1): Linear(in_features=9, out_features=1024, bias=True)\n",
              "  (fc2): Linear(in_features=1024, out_features=4, bias=True)\n",
              ")"
            ]
          },
          "execution_count": 21,
          "metadata": {},
          "output_type": "execute_result"
        }
      ],
      "source": [
        "bnn_model"
      ]
    },
    {
      "cell_type": "code",
      "execution_count": 22,
      "metadata": {
        "colab": {
          "base_uri": "https://localhost:8080/",
          "height": 235
        },
        "id": "S1PmVvu7m6HL",
        "outputId": "f7ccb3c5-ed97-4983-a7ac-0628c1b14b67"
      },
      "outputs": [
        {
          "name": "stdout",
          "output_type": "stream",
          "text": [
            "COMMAND INJECTION\n"
          ]
        }
      ],
      "source": [
        "new_data = torch.Tensor(im_arr)\n",
        "#bnn_model = joblib.load(\"c:/Users/gokul/Desktop/Attack_Identification/Threat_Identification/bnn.pkl\")\n",
        "\n",
        "predicted_class = predict(bnn_model, new_data.unsqueeze(0))\n",
        "if(predicted_class.item() == 0) :\n",
        "    attack_type = \"NORMAL\"\n",
        "elif(predicted_class.item() == 1) :\n",
        "    attack_type = \"COMMAND INJECTION\"\n",
        "elif(predicted_class.item() == 2) :\n",
        "    attack_type = \"SQL INJECTION\"\n",
        "else:\n",
        "    attack_type = \"CROSS-SITE SCRIPTING (XSS)\"\n",
        "\n",
        "print(attack_type) "
      ]
    },
    {
      "cell_type": "code",
      "execution_count": 22,
      "metadata": {
        "id": "LNK6OMQ3m6Jy"
      },
      "outputs": [],
      "source": [
        "df_attacks = pd.read_csv(\"/Users/gokul/Desktop/Attack_Identification/Logged_Output/waf_payloads.csv\")\n",
        "fin_arr = []"
      ]
    },
    {
      "cell_type": "code",
      "execution_count": 23,
      "metadata": {
        "id": "lj_PLl40m6NC"
      },
      "outputs": [],
      "source": [
        "for index, row in df_attacks.iterrows():\n",
        "    current_row = []\n",
        "    current_payload = row['Malicious Payload']\n",
        "    current_row.append(current_payload)\n",
        "    d = extract_feature(current_payload)\n",
        "    d.drop(columns=d.columns[0], axis=1,  inplace=True)\n",
        "    im_arr = np.array(d.values)\n",
        "    im_arr = im_arr.flatten()\n",
        "    current_data = torch.Tensor(im_arr)\n",
        "    predicted_class = predict(bnn_model, current_data.unsqueeze(0))\n",
        "    if(predicted_class.item() == 0) :\n",
        "        attack_type = \"NORMAL\"\n",
        "    elif(predicted_class.item() == 1) :\n",
        "        attack_type = \"COMMAND INJECTION\"\n",
        "    elif(predicted_class.item() == 2) :\n",
        "        attack_type = \"SQL INJECTION\"\n",
        "    else:\n",
        "        attack_type = \"CROSS-SITE SCRIPTING (XSS)\"\n",
        "    current_row.append(attack_type)\n",
        "    fin_arr.append(current_row)\n",
        "    \n",
        "fin_arr = np.array(fin_arr)\n"
      ]
    },
    {
      "cell_type": "code",
      "execution_count": 24,
      "metadata": {
        "id": "0N7RraPRm6Pi"
      },
      "outputs": [],
      "source": [
        "df = pd.DataFrame({'Payload': fin_arr[:, 0], 'Attack Type': fin_arr[:, 1]})\n",
        "df.info\n",
        "df.to_csv(\"/Users/gokul/Desktop/Attack_Identification/Logged_Output/bnns_attack_types.csv\")"
      ]
    }
  ],
  "metadata": {
    "colab": {
      "provenance": []
    },
    "kernelspec": {
      "display_name": "Python 3",
      "name": "python3"
    },
    "language_info": {
      "codemirror_mode": {
        "name": "ipython",
        "version": 3
      },
      "file_extension": ".py",
      "mimetype": "text/x-python",
      "name": "python",
      "nbconvert_exporter": "python",
      "pygments_lexer": "ipython3",
      "version": "3.9.13"
    }
  },
  "nbformat": 4,
  "nbformat_minor": 0
}
